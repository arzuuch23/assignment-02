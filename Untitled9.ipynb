{
 "cells": [
  {
   "cell_type": "markdown",
   "id": "d584e47a-359e-43c8-8661-8d03b2d3d565",
   "metadata": {},
   "source": [
    "# Name: Arzoo Mehboon\n",
    "# Roll no: SP25-BBD-018\n"
   ]
  },
  {
   "cell_type": "markdown",
   "id": "7d69e74b-66d9-4c62-85a3-9e239ffeb264",
   "metadata": {},
   "source": [
    "# Lab assignment 02"
   ]
  },
  {
   "cell_type": "markdown",
   "id": "e1c7ba10-99d1-4c2a-8ae1-21c6817929f4",
   "metadata": {},
   "source": [
    "# Question no 01"
   ]
  },
  {
   "cell_type": "code",
   "execution_count": 14,
   "id": "f8dfe139-b301-4c78-920b-d430983e048c",
   "metadata": {},
   "outputs": [
    {
     "name": "stdin",
     "output_type": "stream",
     "text": [
      "Enter a number: 23\n"
     ]
    },
    {
     "name": "stdout",
     "output_type": "stream",
     "text": [
      "The number is positive\n"
     ]
    }
   ],
   "source": [
    "num = float(input(\"Enter a number:\"))\n",
    "if num > 0 :\n",
    "    print(\"The number is positive\")\n",
    "elif num < 0 :\n",
    "    print(\"The number is negative.\")\n",
    "else:\n",
    "    print(\"The number is zero\")"
   ]
  },
  {
   "cell_type": "markdown",
   "id": "a91d4fbb-1a2c-4147-b603-e8018031dc81",
   "metadata": {},
   "source": [
    "# Question no 02"
   ]
  },
  {
   "cell_type": "code",
   "execution_count": 51,
   "id": "94f133e4-3e20-462a-a0a4-870c13e57511",
   "metadata": {},
   "outputs": [
    {
     "name": "stdin",
     "output_type": "stream",
     "text": [
      "Enter a year:  2006\n"
     ]
    },
    {
     "name": "stdout",
     "output_type": "stream",
     "text": [
      "2006 is not a leap year.\n"
     ]
    }
   ],
   "source": [
    "year = int(input(\"Enter a year: \"))\n",
    "\n",
    "if (year % 4 == 0 ):\n",
    "    print(f\"{year} is a leap year.\")\n",
    "else:\n",
    "    print(f\"{year} is not a leap year.\")"
   ]
  },
  {
   "cell_type": "markdown",
   "id": "8f58302e-c8cc-45e3-a02f-4a830935697c",
   "metadata": {},
   "source": [
    "# Question no 03"
   ]
  },
  {
   "cell_type": "code",
   "execution_count": 73,
   "id": "6644edff-8073-42b1-9b4f-2a31474710a3",
   "metadata": {},
   "outputs": [
    {
     "name": "stdin",
     "output_type": "stream",
     "text": [
      "Enter any number: 2\n",
      "Enter operator (+,-,*,/):  *\n",
      "Enter any number: 3\n"
     ]
    },
    {
     "name": "stdout",
     "output_type": "stream",
     "text": [
      "Result: 6.0\n"
     ]
    }
   ],
   "source": [
    "num1 = float(input(\"Enter any number:\"))\n",
    "operator = input(\"Enter operator (+,-,*,/): \")\n",
    "num2 = float(input(\"Enter any number:\"))\n",
    "if operator == '+':\n",
    "    result = num1 + num2\n",
    "elif operator == '-':\n",
    "     result = num1 - num2\n",
    "elif operator == '*':\n",
    "        result = num1 * num2\n",
    "elif operator == '/':\n",
    "    result = num1 / num2\n",
    "else:\n",
    "    result = \"Invalid operator.\"\n",
    "print(\"Result:\", result)\n",
    "         \n",
    "\n",
    "        \n",
    "        \n",
    "\n"
   ]
  },
  {
   "cell_type": "markdown",
   "id": "d59ce013-5c49-4b9b-b9ee-62753815382b",
   "metadata": {},
   "source": [
    "# Question no 4"
   ]
  },
  {
   "cell_type": "code",
   "execution_count": 80,
   "id": "f4bd8b65-dbeb-4b32-a511-3968e49dadff",
   "metadata": {},
   "outputs": [
    {
     "name": "stdin",
     "output_type": "stream",
     "text": [
      "Enter any student's marks: 80\n"
     ]
    },
    {
     "name": "stdout",
     "output_type": "stream",
     "text": [
      "The grade is: B\n"
     ]
    }
   ],
   "source": [
    "marks = float(input(\"Enter any student's marks:\"))\n",
    "              \n",
    "if marks >= 85:\n",
    "               grade = 'A'\n",
    "elif marks >= 75:\n",
    "    grade = 'B'\n",
    "elif marks >= 50:\n",
    "    grade = 'C'\n",
    "\n",
    "else:\n",
    "    grade = 'F'\n",
    "\n",
    "print(f\"The grade is: {grade}\")\n",
    "\n",
    "             \n",
    "\n",
    "\n",
    "\n",
    "    "
   ]
  },
  {
   "cell_type": "markdown",
   "id": "d4461c8f-3de2-4230-9278-a08f47c33418",
   "metadata": {},
   "source": [
    "# Question no 5"
   ]
  },
  {
   "cell_type": "code",
   "execution_count": 83,
   "id": "4e95aea9-42b7-4ade-ba29-0653d8cdcc60",
   "metadata": {},
   "outputs": [
    {
     "name": "stdin",
     "output_type": "stream",
     "text": [
      "Enter your age: 23\n",
      "Enter your income: 20000\n"
     ]
    },
    {
     "name": "stdout",
     "output_type": "stream",
     "text": [
      "Not eligible\n"
     ]
    }
   ],
   "source": [
    "age = int(input(\"Enter your age:\"))\n",
    "income = float(input(\"Enter your income:\"))\n",
    "if age >= 21 and income > 25000:\n",
    "    print(\"Eligible for memebership\")\n",
    "else:\n",
    "    print(\"Not eligible\")\n",
    "               "
   ]
  },
  {
   "cell_type": "markdown",
   "id": "e61d5ea9-455b-4edd-96c4-4dc25aa97456",
   "metadata": {},
   "source": [
    "# Question 6"
   ]
  },
  {
   "cell_type": "code",
   "execution_count": 88,
   "id": "640f6376-9e4b-42ad-b52e-b01475f5ee5f",
   "metadata": {},
   "outputs": [
    {
     "name": "stdin",
     "output_type": "stream",
     "text": [
      "Enter a number 23\n"
     ]
    },
    {
     "name": "stdout",
     "output_type": "stream",
     "text": [
      "23\n"
     ]
    }
   ],
   "source": [
    "num = int(input(\"Enter a number\"))\n",
    "if num % 3 == 0 and num % 5 == 0:\n",
    "    print(\"FizzBuzz\")\n",
    "elif num % 3 == 0:\n",
    "    print(\"Fizz\")\n",
    "elif num % 5 == 0:\n",
    "    print(\"Buzz\")\n",
    "else:\n",
    "    print(num)\n",
    "          "
   ]
  },
  {
   "cell_type": "markdown",
   "id": "a0f60fcd-4e2e-413f-825b-c7927c56a2e2",
   "metadata": {},
   "source": [
    "# Question no 8"
   ]
  },
  {
   "cell_type": "code",
   "execution_count": 116,
   "id": "b40ffdf1-dd5f-416d-bdaf-3d02d387ed12",
   "metadata": {},
   "outputs": [
    {
     "name": "stdin",
     "output_type": "stream",
     "text": [
      "Enter the current day: saturday\n"
     ]
    },
    {
     "name": "stdout",
     "output_type": "stream",
     "text": [
      "Enjoy your weekend!\n"
     ]
    }
   ],
   "source": [
    "day = input(\"Enter the current day:\")\n",
    "if day == \"saturday\" or day == \"sunday\":\n",
    "    print(\"Enjoy your weekend!\")\n",
    "else:\n",
    "    print(\"Time to work!\")"
   ]
  },
  {
   "cell_type": "code",
   "execution_count": null,
   "id": "756d4c0c-7a03-4571-acf3-962058d121c1",
   "metadata": {},
   "outputs": [],
   "source": []
  },
  {
   "cell_type": "code",
   "execution_count": null,
   "id": "466c5300-43d6-4d7a-8d94-88b344b7c705",
   "metadata": {},
   "outputs": [],
   "source": [
    "num = int(input(\"Enter a number: \"))\n",
    "\n",
    "if num > 0:\n",
    "    print(\"The number is positive.\")\n",
    "    if num % 2 == 0:\n",
    "        print(\"It is even.\")\n",
    "    else:\n",
    "        print(\"It is odd.\")\n",
    "elif num < 0:\n",
    "    print(\"The number is negative.\")\n",
    "else:\n",
    "    print(\"The number is zero.\")"
   ]
  }
 ],
 "metadata": {
  "kernelspec": {
   "display_name": "Python [conda env:base] *",
   "language": "python",
   "name": "conda-base-py"
  },
  "language_info": {
   "codemirror_mode": {
    "name": "ipython",
    "version": 3
   },
   "file_extension": ".py",
   "mimetype": "text/x-python",
   "name": "python",
   "nbconvert_exporter": "python",
   "pygments_lexer": "ipython3",
   "version": "3.12.7"
  }
 },
 "nbformat": 4,
 "nbformat_minor": 5
}
